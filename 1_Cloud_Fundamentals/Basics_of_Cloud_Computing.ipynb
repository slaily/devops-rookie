{
 "cells": [
  {
   "cell_type": "markdown",
   "metadata": {},
   "source": [
    "### Table of contents\n",
    "\n",
    "---\n",
    "- **Cloud Computing**\n",
    "- **Cloud Computing Deployment Models**\n",
    "---"
   ]
  },
  {
   "cell_type": "markdown",
   "metadata": {},
   "source": [
    "### Cloud Computing\n",
    "---\n",
    "\n",
    "> Cloud computing is the on-demand delivery of IT resources over the Internet.\n",
    "\n",
    "Consider cloud computing with social networks. The social networks that you use, whether it is Facebook, Instagram, TikTok, Twitter, and so on, takes care of housing all of the hardware and software necessary to support your account and others. When you want to access your social network, you open your web browser, go to the social network, and log in. The most important part is to having internet access. The tons of data, like posts and so on, are not stored on your physical computer.  \n",
    "Another point, you've come up with a brilliant business idea transformed into an application that is computing massive amounts of data. The users are eligible to process the data by their specific business needs and store it. Significant resources like storage, computing power are required for the application to run well due to the high pressure. The runtime of the application must be 24/7 without any downtimes, also an option for flexible scaling on resources. Instead of make huge investments in hardware, you can use the cloud and only pay for resources as you consume it.   \n",
    "The cloud frees you from managing infrastructure and data centers so you can focus on what matters most to your idea. You access resources from the cloud in real-time as they're needed, you can scale these resources up and down to grow or shrink capacity instantly as your business needs change."
   ]
  },
  {
   "cell_type": "markdown",
   "metadata": {},
   "source": [
    "### Cloud Computing Deployment Models\n",
    "---\n",
    "\n",
    "- Public cloud\n",
    ">Public clouds are owned and operated by a third-party cloud service providers, which deliver their computing resources, like servers and storage, over the Internet. With a public cloud, all hardware, software, and other supporting infrastructure is owned and managed by the cloud provider. You access these services and manage your account using a web browser.\n",
    "\n",
    "- Private cloud\n",
    "> A private cloud refers to cloud computing resources used exclusively by a single business or organization. A private cloud can be physically located on the company’s on-site datacenter. Some companies also pay third-party service providers to host their private cloud. A private cloud is one in which the services and infrastructure are maintained on a private network.\n",
    "\n",
    "- Hybrid\n",
    "> Hybrid cloud is a computing environment that connects a company’s on-premises private cloud services and third-party public cloud into a single, flexible infrastructure for running the organization’s applications and workloads."
   ]
  }
 ],
 "metadata": {
  "kernelspec": {
   "display_name": "Python 3",
   "language": "python",
   "name": "python3"
  },
  "language_info": {
   "codemirror_mode": {
    "name": "ipython",
    "version": 3
   },
   "file_extension": ".py",
   "mimetype": "text/x-python",
   "name": "python",
   "nbconvert_exporter": "python",
   "pygments_lexer": "ipython3",
   "version": "3.7.7"
  }
 },
 "nbformat": 4,
 "nbformat_minor": 4
}
